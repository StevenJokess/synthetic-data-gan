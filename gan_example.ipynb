{
 "nbformat": 4,
 "nbformat_minor": 0,
 "metadata": {
  "kernelspec": {
   "name": "python3",
   "language": "python",
   "display_name": "Python 3 (ipykernel)"
  },
  "language_info": {
   "codemirror_mode": {
    "name": "ipython",
    "version": 3
   },
   "file_extension": ".py",
   "mimetype": "text/x-python",
   "name": "python",
   "nbconvert_exporter": "python",
   "pygments_lexer": "ipython3",
   "version": "3.7.3"
  },
  "colab": {
   "name": "gan_example.ipynb",
   "provenance": []
  }
 },
 "cells": [
  {
   "cell_type": "markdown",
   "metadata": {
    "collapsed": true,
    "pycharm": {
     "name": "#%% md\n"
    },
    "id": "AnCU8-Mal4fV"
   },
   "source": [
    "# The credit fraud dataset - Synthesizing the minority class\n",
    "In this notebook it's presented a practical exercise of how to use the available library GANs to synthesize tabular data.\n",
    "For the purpose of this exercise it has been used the Credit Fraud dataset from Kaggle, that you can find here:\n",
    "https://www.kaggle.com/mlg-ulb/creditcardfraud"
   ]
  },
  {
   "cell_type": "code",
   "metadata": {
    "pycharm": {
     "name": "#%%\n"
    },
    "id": "j0CX0r65l4fY"
   },
   "source": [
    "# Note: You can select between running the Notebook on \"CPU\" or \"GPU\"\n",
    "# Click \"Runtime > Change Runtime time\" and set \"GPU\""
   ],
   "execution_count": 1,
   "outputs": []
  },
  {
   "cell_type": "code",
   "metadata": {
    "pycharm": {
     "name": "#%%\n"
    },
    "id": "x0u2qegKl4fY",
    "outputId": "51b00474-09de-4e9a-dbf9-9535f056fbd0",
    "colab": {
     "base_uri": "https://localhost:8080/",
     "height": 247
    }
   },
   "source": [
    "# Install ydata-synthetic lib\n",
    "# ! pip install ydata-synthetic"
   ],
   "execution_count": 2,
   "outputs": []
  },
  {
   "cell_type": "code",
   "metadata": {
    "pycharm": {
     "name": "#%%\n"
    },
    "id": "oX2OK2fbl4fZ"
   },
   "source": [
    "import importlib\n",
    "import os\n",
    "import sys  \n",
    "\n",
    "import pandas as pd\n",
    "import numpy as np\n",
    "import sklearn.cluster as cluster\n",
    "import matplotlib.pyplot as plt\n",
    "\n",
    "from ydata_synthetic.synthesizers.regular import VanilllaGAN\n",
    "from ydata_synthetic.preprocessing.regular.credit_fraud import *\n",
    "\n",
    "model = VanilllaGAN"
   ],
   "execution_count": 3,
   "outputs": []
  },
  {
   "cell_type": "code",
   "metadata": {
    "pycharm": {
     "name": "#%%\n"
    },
    "id": "P1Rcz4RPl4fZ"
   },
   "source": [
    "# Read the original data and have it preprocessed\n",
    "data = pd.read_csv('./data/creditcard.csv', index_col=[0])"
   ],
   "execution_count": 4,
   "outputs": []
  },
  {
   "cell_type": "code",
   "metadata": {
    "id": "ceNe1Ofbl4fZ",
    "outputId": "f8f9fece-e7d3-454f-d4c9-d6cd116ca68a",
    "colab": {
     "base_uri": "https://localhost:8080/"
    }
   },
   "source": [
    "data_cols = list(data.columns[ data.columns != 'Class' ])\n",
    "label_cols = ['Class']\n",
    "\n",
    "print('Dataset columns: {}'.format(data_cols))\n",
    "sorted_cols = ['V14', 'V4', 'V10', 'V17', 'V12', 'V26', 'Amount', 'V21', 'V8', 'V11', 'V7', 'V28', 'V19', 'V3', 'V22', 'V6', 'V20', 'V27', 'V16', 'V13', 'V25', 'V24', 'V18', 'V2', 'V1', 'V5', 'V15', 'V9', 'V23', 'Class']\n",
    "processed_data = data[ sorted_cols ].copy()"
   ],
   "execution_count": 5,
   "outputs": [
    {
     "name": "stdout",
     "output_type": "stream",
     "text": [
      "Dataset columns: ['V1', 'V2', 'V3', 'V4', 'V5', 'V6', 'V7', 'V8', 'V9', 'V10', 'V11', 'V12', 'V13', 'V14', 'V15', 'V16', 'V17', 'V18', 'V19', 'V20', 'V21', 'V22', 'V23', 'V24', 'V25', 'V26', 'V27', 'V28', 'Amount']\n"
     ]
    }
   ]
  },
  {
   "cell_type": "code",
   "metadata": {
    "pycharm": {
     "name": "#%%\n"
    },
    "id": "3o4V8-ypl4fa",
    "outputId": "39fabdb7-b3e4-492f-85f0-cd6232b45609",
    "colab": {
     "base_uri": "https://localhost:8080/"
    }
   },
   "source": [
    "# Before training the GAN do not forget to apply the required data transformations\n",
    "# To ease here we've applied a PowerTransformation\n",
    "data = transformations(data)\n",
    "\n",
    "# For the purpose of this example we will only synthesize the minority class\n",
    "train_data = data.loc[ data['Class']==1 ].copy()\n",
    "\n",
    "print(\"Dataset info: Number of records - {} Number of varibles - {}\".format(train_data.shape[0], train_data.shape[1]))\n",
    "\n",
    "algorithm = cluster.KMeans\n",
    "args, kwds = (), {'n_clusters':2, 'random_state':0}\n",
    "labels = algorithm(*args, **kwds).fit_predict(train_data[ data_cols ])\n",
    "\n",
    "print( pd.DataFrame( [ [np.sum(labels==i)] for i in np.unique(labels) ], columns=['count'], index=np.unique(labels) ) )\n",
    "\n",
    "fraud_w_classes = train_data.copy()\n",
    "fraud_w_classes['Class'] = labels"
   ],
   "execution_count": 6,
   "outputs": [
    {
     "name": "stdout",
     "output_type": "stream",
     "text": [
      "Dataset info: Number of records - 492 Number of varibles - 30\n",
      "   count\n",
      "0    384\n",
      "1    108\n"
     ]
    }
   ]
  },
  {
   "cell_type": "markdown",
   "metadata": {
    "pycharm": {
     "name": "#%% md\n"
    },
    "id": "3ezlIjKbl4fb"
   },
   "source": [
    "# GAN training\n",
    "\n",
    "Below you can try to train your own generators using the available GANs architectures. You can train it either with labels (created using KMeans) or with no labels at all. \n",
    "\n",
    "Remember that for this exercise in particular we've decided to synthesize only the minority class from the Credit Fraud dataset."
   ]
  },
  {
   "cell_type": "code",
   "metadata": {
    "pycharm": {
     "name": "#%%\n"
    },
    "id": "7FMDs5eql4fb"
   },
   "source": [
    "# Define the GAN and training parameters\n",
    "noise_dim = 32\n",
    "dim = 128\n",
    "batch_size = 128\n",
    "\n",
    "log_step = 100\n",
    "epochs = 200+1\n",
    "learning_rate = 5e-4\n",
    "beta_1 = 0.5\n",
    "beta_2 = 0.9\n",
    "models_dir = './cache'\n",
    "\n",
    "train_sample = fraud_w_classes.copy().reset_index(drop=True)\n",
    "print(\"train_sample.columns:\")\n",
    "print(train_sample.columns)\n",
    "\n",
    "train_sample = pd.get_dummies(train_sample, columns=['Class'], prefix='Class', drop_first=True)\n",
    "print(\"\\ntrain_sample.columns after pd.get_dummies:\")\n",
    "print(train_sample.columns)\n",
    "\n",
    "label_cols = [ i for i in train_sample.columns if 'Class' in i ]\n",
    "print(\"\\nlabel_cols:\")\n",
    "print(label_cols)\n",
    "\n",
    "data_cols = [ i for i in train_sample.columns if i not in label_cols ]\n",
    "print(\"\\ndata_cols:\")\n",
    "print(data_cols)\n",
    "\n",
    "train_sample[ data_cols ] = train_sample[ data_cols ] / 10 # scale to random noise size, one less thing to learn\n",
    "train_no_label = train_sample[ data_cols ]\n",
    "\n",
    "gan_args = [batch_size, learning_rate, beta_1, beta_2, noise_dim, train_sample.shape[1], dim]\n",
    "train_args = ['', epochs, log_step]"
   ],
   "execution_count": 18,
   "outputs": [
    {
     "name": "stdout",
     "output_type": "stream",
     "text": [
      "train_sample.columns:\n",
      "Index(['V1', 'V2', 'V3', 'V4', 'V5', 'V6', 'V7', 'V8', 'V9', 'V10', 'V11',\n",
      "       'V12', 'V13', 'V14', 'V15', 'V16', 'V17', 'V18', 'V19', 'V20', 'V21',\n",
      "       'V22', 'V23', 'V24', 'V25', 'V26', 'V27', 'V28', 'Amount', 'Class'],\n",
      "      dtype='object')\n",
      "\n",
      "train_sample.columns after pd.get_dummies:\n",
      "Index(['V1', 'V2', 'V3', 'V4', 'V5', 'V6', 'V7', 'V8', 'V9', 'V10', 'V11',\n",
      "       'V12', 'V13', 'V14', 'V15', 'V16', 'V17', 'V18', 'V19', 'V20', 'V21',\n",
      "       'V22', 'V23', 'V24', 'V25', 'V26', 'V27', 'V28', 'Amount', 'Class_1'],\n",
      "      dtype='object')\n",
      "\n",
      "label_cols:\n",
      "['Class_1']\n",
      "\n",
      "data_cols:\n",
      "['V1', 'V2', 'V3', 'V4', 'V5', 'V6', 'V7', 'V8', 'V9', 'V10', 'V11', 'V12', 'V13', 'V14', 'V15', 'V16', 'V17', 'V18', 'V19', 'V20', 'V21', 'V22', 'V23', 'V24', 'V25', 'V26', 'V27', 'V28', 'Amount']\n"
     ]
    }
   ]
  },
  {
   "cell_type": "code",
   "execution_count": 8,
   "outputs": [],
   "source": [
    "# data_cols\n",
    "# print(train_sample.columns)"
   ],
   "metadata": {
    "collapsed": false,
    "pycharm": {
     "name": "#%%\n"
    }
   }
  },
  {
   "cell_type": "code",
   "metadata": {
    "pycharm": {
     "name": "#%%\n"
    },
    "id": "qgMDmyall4fc",
    "outputId": "ae669bdf-01b6-49d9-a254-cc0776508f7b",
    "colab": {
     "base_uri": "https://localhost:8080/"
    }
   },
   "source": [
    "# Training the GAN model chosen: Vanilla GAN, CGAN, DCGAN, etc.\n",
    "synthesizer = model(gan_args)\n",
    "synthesizer.train(train_sample, train_args)"
   ],
   "execution_count": 9,
   "outputs": [
    {
     "name": "stdout",
     "output_type": "stream",
     "text": [
      "0 [D loss: 0.717894, acc.: 48.05%] [G loss: 0.627434]\n",
      "generated_data\n",
      "1 [D loss: 0.697678, acc.: 50.00%] [G loss: 0.620858]\n",
      "2 [D loss: 0.687962, acc.: 50.00%] [G loss: 0.635892]\n",
      "3 [D loss: 0.675877, acc.: 50.00%] [G loss: 0.662284]\n",
      "4 [D loss: 0.653905, acc.: 50.00%] [G loss: 0.705784]\n",
      "5 [D loss: 0.651108, acc.: 52.34%] [G loss: 0.741905]\n",
      "6 [D loss: 0.661222, acc.: 51.56%] [G loss: 0.746076]\n",
      "7 [D loss: 0.696902, acc.: 51.95%] [G loss: 0.714317]\n",
      "8 [D loss: 0.751726, acc.: 44.14%] [G loss: 0.668657]\n",
      "9 [D loss: 0.782795, acc.: 37.11%] [G loss: 0.653106]\n",
      "10 [D loss: 0.763225, acc.: 28.91%] [G loss: 0.701771]\n",
      "11 [D loss: 0.705918, acc.: 36.72%] [G loss: 0.840813]\n",
      "12 [D loss: 0.643127, acc.: 72.27%] [G loss: 0.964718]\n",
      "13 [D loss: 0.609265, acc.: 75.39%] [G loss: 1.025155]\n",
      "14 [D loss: 0.592740, acc.: 78.12%] [G loss: 1.054217]\n",
      "15 [D loss: 0.596383, acc.: 82.81%] [G loss: 1.038825]\n",
      "16 [D loss: 0.601421, acc.: 83.98%] [G loss: 1.037934]\n",
      "17 [D loss: 0.602587, acc.: 89.84%] [G loss: 0.976192]\n",
      "18 [D loss: 0.612684, acc.: 90.62%] [G loss: 0.945214]\n",
      "19 [D loss: 0.627949, acc.: 86.33%] [G loss: 0.881598]\n",
      "20 [D loss: 0.637037, acc.: 80.47%] [G loss: 0.843093]\n",
      "21 [D loss: 0.631259, acc.: 77.73%] [G loss: 0.851595]\n",
      "22 [D loss: 0.616766, acc.: 83.59%] [G loss: 0.873879]\n",
      "23 [D loss: 0.605571, acc.: 87.11%] [G loss: 0.884685]\n",
      "24 [D loss: 0.591223, acc.: 88.28%] [G loss: 0.889641]\n",
      "25 [D loss: 0.593630, acc.: 86.33%] [G loss: 0.855444]\n",
      "26 [D loss: 0.602562, acc.: 77.34%] [G loss: 0.830322]\n",
      "27 [D loss: 0.616965, acc.: 63.67%] [G loss: 0.779348]\n",
      "28 [D loss: 0.626554, acc.: 55.47%] [G loss: 0.763920]\n",
      "29 [D loss: 0.628724, acc.: 55.08%] [G loss: 0.748859]\n",
      "30 [D loss: 0.626848, acc.: 51.95%] [G loss: 0.757440]\n",
      "31 [D loss: 0.603914, acc.: 65.23%] [G loss: 0.782014]\n",
      "32 [D loss: 0.602512, acc.: 66.02%] [G loss: 0.807670]\n",
      "33 [D loss: 0.595644, acc.: 67.58%] [G loss: 0.818050]\n",
      "34 [D loss: 0.586963, acc.: 76.17%] [G loss: 0.821287]\n",
      "35 [D loss: 0.592367, acc.: 66.80%] [G loss: 0.821098]\n",
      "36 [D loss: 0.579593, acc.: 75.00%] [G loss: 0.832659]\n",
      "37 [D loss: 0.595621, acc.: 67.19%] [G loss: 0.828847]\n",
      "38 [D loss: 0.596131, acc.: 66.02%] [G loss: 0.822993]\n",
      "39 [D loss: 0.610184, acc.: 57.81%] [G loss: 0.819540]\n",
      "40 [D loss: 0.618037, acc.: 55.47%] [G loss: 0.817153]\n",
      "41 [D loss: 0.625000, acc.: 46.88%] [G loss: 0.811642]\n",
      "42 [D loss: 0.627927, acc.: 47.27%] [G loss: 0.819398]\n",
      "43 [D loss: 0.624977, acc.: 54.30%] [G loss: 0.848947]\n",
      "44 [D loss: 0.617023, acc.: 58.59%] [G loss: 0.876805]\n",
      "45 [D loss: 0.617466, acc.: 56.25%] [G loss: 0.889452]\n",
      "46 [D loss: 0.593433, acc.: 64.45%] [G loss: 0.910860]\n",
      "47 [D loss: 0.589919, acc.: 63.28%] [G loss: 0.926681]\n",
      "48 [D loss: 0.607664, acc.: 62.50%] [G loss: 0.943742]\n",
      "49 [D loss: 0.599365, acc.: 65.23%] [G loss: 0.938516]\n",
      "50 [D loss: 0.683553, acc.: 55.47%] [G loss: 0.922917]\n",
      "51 [D loss: 0.762939, acc.: 53.12%] [G loss: 0.856403]\n",
      "52 [D loss: 0.770570, acc.: 49.22%] [G loss: 0.771496]\n",
      "53 [D loss: 0.888419, acc.: 40.62%] [G loss: 0.749947]\n",
      "54 [D loss: 0.853662, acc.: 42.97%] [G loss: 0.798074]\n",
      "55 [D loss: 0.829154, acc.: 42.97%] [G loss: 0.910335]\n",
      "56 [D loss: 0.708439, acc.: 49.61%] [G loss: 1.082820]\n",
      "57 [D loss: 0.608607, acc.: 69.14%] [G loss: 1.288501]\n",
      "58 [D loss: 0.565426, acc.: 75.00%] [G loss: 1.432470]\n",
      "59 [D loss: 0.525156, acc.: 80.08%] [G loss: 1.515651]\n",
      "60 [D loss: 0.483587, acc.: 82.42%] [G loss: 1.539296]\n",
      "61 [D loss: 0.465179, acc.: 83.20%] [G loss: 1.606416]\n",
      "62 [D loss: 0.436287, acc.: 83.20%] [G loss: 1.637767]\n",
      "63 [D loss: 0.435753, acc.: 85.16%] [G loss: 1.555632]\n",
      "64 [D loss: 0.413097, acc.: 85.55%] [G loss: 1.517747]\n",
      "65 [D loss: 0.392557, acc.: 87.11%] [G loss: 1.424856]\n",
      "66 [D loss: 0.400136, acc.: 88.28%] [G loss: 1.410339]\n",
      "67 [D loss: 0.391277, acc.: 87.89%] [G loss: 1.371018]\n",
      "68 [D loss: 0.397996, acc.: 86.72%] [G loss: 1.264177]\n",
      "69 [D loss: 0.408534, acc.: 85.55%] [G loss: 1.175700]\n",
      "70 [D loss: 0.442465, acc.: 82.81%] [G loss: 1.024487]\n",
      "71 [D loss: 0.465783, acc.: 77.34%] [G loss: 0.949500]\n",
      "72 [D loss: 0.510745, acc.: 66.41%] [G loss: 0.848200]\n",
      "73 [D loss: 0.533429, acc.: 61.33%] [G loss: 0.829885]\n",
      "74 [D loss: 0.564897, acc.: 54.30%] [G loss: 0.781276]\n",
      "75 [D loss: 0.563221, acc.: 55.08%] [G loss: 0.798390]\n",
      "76 [D loss: 0.584454, acc.: 51.95%] [G loss: 0.784982]\n",
      "77 [D loss: 0.606866, acc.: 53.12%] [G loss: 0.811217]\n",
      "78 [D loss: 0.628843, acc.: 50.39%] [G loss: 0.793654]\n",
      "79 [D loss: 0.681919, acc.: 44.53%] [G loss: 0.742584]\n",
      "80 [D loss: 0.750862, acc.: 40.62%] [G loss: 0.658022]\n",
      "81 [D loss: 0.790618, acc.: 38.28%] [G loss: 0.632928]\n",
      "82 [D loss: 0.819154, acc.: 36.72%] [G loss: 0.608143]\n",
      "83 [D loss: 0.862322, acc.: 30.86%] [G loss: 0.572995]\n",
      "84 [D loss: 0.849049, acc.: 28.52%] [G loss: 0.607571]\n",
      "85 [D loss: 0.869523, acc.: 25.00%] [G loss: 0.620466]\n",
      "86 [D loss: 0.844037, acc.: 20.70%] [G loss: 0.659682]\n",
      "87 [D loss: 0.829034, acc.: 20.70%] [G loss: 0.706564]\n",
      "88 [D loss: 0.786521, acc.: 28.52%] [G loss: 0.752534]\n",
      "89 [D loss: 0.746927, acc.: 35.55%] [G loss: 0.828630]\n",
      "90 [D loss: 0.733258, acc.: 39.06%] [G loss: 0.865254]\n",
      "91 [D loss: 0.677681, acc.: 57.81%] [G loss: 0.945110]\n",
      "92 [D loss: 0.666660, acc.: 55.08%] [G loss: 0.953965]\n",
      "93 [D loss: 0.642976, acc.: 64.84%] [G loss: 0.979741]\n",
      "94 [D loss: 0.613415, acc.: 67.97%] [G loss: 1.006518]\n",
      "95 [D loss: 0.584804, acc.: 73.05%] [G loss: 1.053159]\n",
      "96 [D loss: 0.570568, acc.: 73.83%] [G loss: 1.111068]\n",
      "97 [D loss: 0.569340, acc.: 71.09%] [G loss: 1.119142]\n",
      "98 [D loss: 0.537146, acc.: 75.39%] [G loss: 1.149870]\n",
      "99 [D loss: 0.547365, acc.: 74.22%] [G loss: 1.097522]\n",
      "100 [D loss: 0.549596, acc.: 73.83%] [G loss: 1.098075]\n",
      "generated_data\n",
      "101 [D loss: 0.547275, acc.: 72.66%] [G loss: 1.090156]\n",
      "102 [D loss: 0.559936, acc.: 70.70%] [G loss: 1.067181]\n",
      "103 [D loss: 0.571523, acc.: 68.36%] [G loss: 1.050336]\n",
      "104 [D loss: 0.575651, acc.: 64.84%] [G loss: 1.045678]\n",
      "105 [D loss: 0.570004, acc.: 68.36%] [G loss: 1.062129]\n",
      "106 [D loss: 0.595662, acc.: 68.36%] [G loss: 1.064678]\n",
      "107 [D loss: 0.590917, acc.: 67.97%] [G loss: 1.060349]\n",
      "108 [D loss: 0.569817, acc.: 69.92%] [G loss: 1.041213]\n",
      "109 [D loss: 0.775125, acc.: 64.45%] [G loss: 0.953596]\n",
      "110 [D loss: 0.775135, acc.: 64.84%] [G loss: 0.960075]\n",
      "111 [D loss: 0.786560, acc.: 64.45%] [G loss: 0.891992]\n",
      "112 [D loss: 0.804615, acc.: 62.50%] [G loss: 0.800098]\n",
      "113 [D loss: 0.798287, acc.: 56.25%] [G loss: 0.699594]\n",
      "114 [D loss: 0.803833, acc.: 54.30%] [G loss: 0.772118]\n",
      "115 [D loss: 0.741761, acc.: 49.22%] [G loss: 0.873532]\n",
      "116 [D loss: 0.654234, acc.: 54.30%] [G loss: 1.001706]\n",
      "117 [D loss: 0.560369, acc.: 76.56%] [G loss: 1.188013]\n",
      "118 [D loss: 0.532130, acc.: 77.34%] [G loss: 1.311661]\n",
      "119 [D loss: 0.512703, acc.: 77.34%] [G loss: 1.409527]\n",
      "120 [D loss: 0.495350, acc.: 76.56%] [G loss: 1.284676]\n",
      "121 [D loss: 0.522525, acc.: 71.48%] [G loss: 1.263938]\n",
      "122 [D loss: 0.550608, acc.: 68.36%] [G loss: 1.048878]\n",
      "123 [D loss: 0.567917, acc.: 66.80%] [G loss: 1.011676]\n",
      "124 [D loss: 0.625056, acc.: 58.59%] [G loss: 0.891935]\n",
      "125 [D loss: 0.676668, acc.: 53.12%] [G loss: 0.816601]\n",
      "126 [D loss: 0.676567, acc.: 50.39%] [G loss: 0.790561]\n",
      "127 [D loss: 0.664147, acc.: 57.03%] [G loss: 0.846671]\n",
      "128 [D loss: 0.676190, acc.: 50.39%] [G loss: 0.880927]\n",
      "129 [D loss: 0.641525, acc.: 62.89%] [G loss: 0.900731]\n",
      "130 [D loss: 0.653470, acc.: 58.59%] [G loss: 0.903538]\n",
      "131 [D loss: 0.652194, acc.: 62.50%] [G loss: 0.873256]\n",
      "132 [D loss: 0.684007, acc.: 56.25%] [G loss: 0.855842]\n",
      "133 [D loss: 0.704420, acc.: 50.00%] [G loss: 0.822542]\n",
      "134 [D loss: 0.731161, acc.: 42.19%] [G loss: 0.803027]\n",
      "135 [D loss: 0.725831, acc.: 42.58%] [G loss: 0.771566]\n",
      "136 [D loss: 0.721167, acc.: 44.14%] [G loss: 0.796137]\n",
      "137 [D loss: 0.745530, acc.: 39.06%] [G loss: 0.811141]\n",
      "138 [D loss: 0.702508, acc.: 48.05%] [G loss: 0.876253]\n",
      "139 [D loss: 0.674554, acc.: 60.16%] [G loss: 0.949936]\n",
      "140 [D loss: 0.649289, acc.: 64.45%] [G loss: 0.978246]\n",
      "141 [D loss: 0.622574, acc.: 65.62%] [G loss: 0.992462]\n",
      "142 [D loss: 0.615664, acc.: 66.80%] [G loss: 0.977986]\n",
      "143 [D loss: 0.613117, acc.: 66.80%] [G loss: 1.001787]\n",
      "144 [D loss: 0.628750, acc.: 64.84%] [G loss: 0.993695]\n",
      "145 [D loss: 0.619342, acc.: 66.02%] [G loss: 0.991142]\n",
      "146 [D loss: 0.614364, acc.: 66.02%] [G loss: 1.029613]\n",
      "147 [D loss: 0.632419, acc.: 63.67%] [G loss: 1.015788]\n",
      "148 [D loss: 0.642545, acc.: 59.38%] [G loss: 0.957592]\n",
      "149 [D loss: 0.662377, acc.: 56.64%] [G loss: 0.930525]\n",
      "150 [D loss: 0.697803, acc.: 50.78%] [G loss: 0.890597]\n",
      "151 [D loss: 0.696698, acc.: 53.91%] [G loss: 0.905839]\n",
      "152 [D loss: 0.738851, acc.: 44.53%] [G loss: 0.885832]\n",
      "153 [D loss: 0.714694, acc.: 55.08%] [G loss: 0.881719]\n",
      "154 [D loss: 0.745228, acc.: 48.44%] [G loss: 0.861406]\n",
      "155 [D loss: 0.741249, acc.: 49.61%] [G loss: 0.851651]\n",
      "156 [D loss: 0.741334, acc.: 46.09%] [G loss: 0.890805]\n",
      "157 [D loss: 0.735348, acc.: 48.83%] [G loss: 0.870078]\n",
      "158 [D loss: 0.743980, acc.: 45.70%] [G loss: 0.877524]\n",
      "159 [D loss: 0.727154, acc.: 49.22%] [G loss: 0.876534]\n",
      "160 [D loss: 0.734409, acc.: 43.36%] [G loss: 0.878646]\n",
      "161 [D loss: 0.687690, acc.: 53.12%] [G loss: 0.928144]\n",
      "162 [D loss: 0.701025, acc.: 52.73%] [G loss: 0.902072]\n",
      "163 [D loss: 0.664888, acc.: 62.50%] [G loss: 0.993571]\n",
      "164 [D loss: 0.624295, acc.: 69.53%] [G loss: 1.013840]\n",
      "165 [D loss: 0.605960, acc.: 73.83%] [G loss: 1.099739]\n",
      "166 [D loss: 0.550036, acc.: 82.81%] [G loss: 1.213985]\n",
      "167 [D loss: 0.515755, acc.: 84.77%] [G loss: 1.195362]\n",
      "168 [D loss: 0.491187, acc.: 87.11%] [G loss: 1.272396]\n",
      "169 [D loss: 0.455541, acc.: 89.45%] [G loss: 1.237244]\n",
      "170 [D loss: 0.463525, acc.: 85.94%] [G loss: 1.250524]\n",
      "171 [D loss: 0.443688, acc.: 89.84%] [G loss: 1.213839]\n",
      "172 [D loss: 0.466493, acc.: 85.94%] [G loss: 1.140241]\n",
      "173 [D loss: 0.512795, acc.: 78.91%] [G loss: 1.012614]\n",
      "174 [D loss: 0.611429, acc.: 67.97%] [G loss: 0.877003]\n",
      "175 [D loss: 0.688175, acc.: 55.47%] [G loss: 0.759005]\n",
      "176 [D loss: 0.772288, acc.: 45.70%] [G loss: 0.648343]\n",
      "177 [D loss: 0.849565, acc.: 38.67%] [G loss: 0.564522]\n",
      "178 [D loss: 0.918090, acc.: 33.98%] [G loss: 0.593123]\n",
      "179 [D loss: 0.921052, acc.: 31.25%] [G loss: 0.585861]\n",
      "180 [D loss: 0.886745, acc.: 28.12%] [G loss: 0.647573]\n",
      "181 [D loss: 0.810696, acc.: 30.08%] [G loss: 0.819654]\n",
      "182 [D loss: 0.769570, acc.: 30.86%] [G loss: 0.904534]\n",
      "183 [D loss: 0.734987, acc.: 44.53%] [G loss: 0.990716]\n",
      "184 [D loss: 0.703280, acc.: 53.52%] [G loss: 1.080160]\n",
      "185 [D loss: 0.672190, acc.: 60.16%] [G loss: 1.145123]\n",
      "186 [D loss: 0.670987, acc.: 63.67%] [G loss: 1.157580]\n",
      "187 [D loss: 0.677533, acc.: 60.94%] [G loss: 1.134971]\n",
      "188 [D loss: 0.687150, acc.: 57.42%] [G loss: 1.141560]\n",
      "189 [D loss: 0.680926, acc.: 62.89%] [G loss: 1.085498]\n",
      "190 [D loss: 0.688135, acc.: 59.77%] [G loss: 1.042475]\n",
      "191 [D loss: 0.688293, acc.: 61.72%] [G loss: 1.021431]\n",
      "192 [D loss: 0.683575, acc.: 62.11%] [G loss: 1.030110]\n",
      "193 [D loss: 0.709623, acc.: 57.42%] [G loss: 1.046441]\n",
      "194 [D loss: 0.673513, acc.: 59.77%] [G loss: 1.025210]\n",
      "195 [D loss: 0.656185, acc.: 61.72%] [G loss: 1.030531]\n",
      "196 [D loss: 0.657261, acc.: 60.16%] [G loss: 1.054125]\n",
      "197 [D loss: 0.637055, acc.: 64.84%] [G loss: 1.034835]\n",
      "198 [D loss: 0.624907, acc.: 64.45%] [G loss: 1.056899]\n",
      "199 [D loss: 0.623318, acc.: 67.58%] [G loss: 1.094547]\n",
      "200 [D loss: 0.613137, acc.: 69.92%] [G loss: 1.067580]\n",
      "generated_data\n"
     ]
    }
   ]
  },
  {
   "cell_type": "code",
   "metadata": {
    "id": "tDjYWJPyl4fc",
    "outputId": "8a5c7afb-74ee-44ee-8902-048250d04061",
    "colab": {
     "base_uri": "https://localhost:8080/"
    }
   },
   "source": [
    "# Generator description\n",
    "synthesizer.generator.summary()"
   ],
   "execution_count": 10,
   "outputs": [
    {
     "name": "stdout",
     "output_type": "stream",
     "text": [
      "Model: \"model\"\n",
      "_________________________________________________________________\n",
      "Layer (type)                 Output Shape              Param #   \n",
      "=================================================================\n",
      "input_1 (InputLayer)         [(128, 32)]               0         \n",
      "_________________________________________________________________\n",
      "dense (Dense)                (128, 128)                4224      \n",
      "_________________________________________________________________\n",
      "dense_1 (Dense)              (128, 256)                33024     \n",
      "_________________________________________________________________\n",
      "dense_2 (Dense)              (128, 512)                131584    \n",
      "_________________________________________________________________\n",
      "dense_3 (Dense)              (128, 30)                 15390     \n",
      "=================================================================\n",
      "Total params: 184,222\n",
      "Trainable params: 184,222\n",
      "Non-trainable params: 0\n",
      "_________________________________________________________________\n"
     ]
    }
   ]
  },
  {
   "cell_type": "code",
   "metadata": {
    "pycharm": {
     "name": "#%%\n"
    },
    "id": "9zyfNK8Gl4fd",
    "outputId": "634297a1-dbeb-4fd0-fe52-24b181711336",
    "colab": {
     "base_uri": "https://localhost:8080/"
    }
   },
   "source": [
    "# Discriminator description\n",
    "synthesizer.discriminator.summary()"
   ],
   "execution_count": 11,
   "outputs": [
    {
     "name": "stdout",
     "output_type": "stream",
     "text": [
      "Model: \"model_1\"\n",
      "_________________________________________________________________\n",
      "Layer (type)                 Output Shape              Param #   \n",
      "=================================================================\n",
      "input_2 (InputLayer)         [(128, 30)]               0         \n",
      "_________________________________________________________________\n",
      "dense_4 (Dense)              (128, 512)                15872     \n",
      "_________________________________________________________________\n",
      "dropout (Dropout)            (128, 512)                0         \n",
      "_________________________________________________________________\n",
      "dense_5 (Dense)              (128, 256)                131328    \n",
      "_________________________________________________________________\n",
      "dropout_1 (Dropout)          (128, 256)                0         \n",
      "_________________________________________________________________\n",
      "dense_6 (Dense)              (128, 128)                32896     \n",
      "_________________________________________________________________\n",
      "dense_7 (Dense)              (128, 1)                  129       \n",
      "=================================================================\n",
      "Total params: 180,225\n",
      "Trainable params: 0\n",
      "Non-trainable params: 180,225\n",
      "_________________________________________________________________\n"
     ]
    }
   ]
  },
  {
   "cell_type": "code",
   "metadata": {
    "pycharm": {
     "name": "#%%\n"
    },
    "id": "C3cs_LKEl4fd",
    "outputId": "bdb0af49-7e29-480e-cb83-56ad2f192ae0",
    "colab": {
     "base_uri": "https://localhost:8080/",
     "height": 185
    }
   },
   "source": [
    "# You can easily save the trained generator and loaded it afterwards\n",
    "if not os.path.exists(\"./saved/gan\"):\n",
    "    os.makedirs(\"./saved/gan\")\n",
    "synthesizer.save(path=\"./saved/gan/generator_fraud.pkl\")"
   ],
   "execution_count": 12,
   "outputs": []
  },
  {
   "cell_type": "code",
   "metadata": {
    "id": "5mvCYNH5l4fd"
   },
   "source": [
    "models = {'GAN': ['GAN', False, synthesizer.generator]}"
   ],
   "execution_count": 13,
   "outputs": []
  },
  {
   "cell_type": "code",
   "metadata": {
    "pycharm": {
     "name": "#%%\n"
    },
    "id": "5wl54IVkl4fe",
    "outputId": "7f131092-2e97-4a95-eb93-d97b2f991321",
    "colab": {
     "base_uri": "https://localhost:8080/",
     "height": 1000
    }
   },
   "source": [
    "# Setup parameters visualization parameters\n",
    "seed = 17\n",
    "test_size = 492 # number of fraud cases\n",
    "noise_dim = 32\n",
    "\n",
    "np.random.seed(seed)\n",
    "z = np.random.normal(size=(test_size, noise_dim))\n",
    "real = synthesizer.get_data_batch(train=train_sample, batch_size=test_size, seed=seed)\n",
    "real_samples = pd.DataFrame(real, columns=data_cols+label_cols)\n",
    "labels = fraud_w_classes['Class']\n",
    "\n",
    "model_names = ['GAN']\n",
    "colors = ['deepskyblue','blue']\n",
    "markers = ['o','^']\n",
    "class_labels = ['Class 1','Class 2']\n",
    "\n",
    "col1, col2 = 'V17', 'V10'\n",
    "\n",
    "base_dir = 'cache/'\n",
    "\n",
    "# Actual fraud data visualization\n",
    "model_steps = [ 0, 100, 200]\n",
    "rows = len(model_steps)\n",
    "columns = 5\n",
    "\n",
    "axarr = [[]]*len(model_steps)\n",
    "\n",
    "fig = plt.figure(figsize=(14,rows*3))\n",
    "\n",
    "for model_step_ix, model_step in enumerate(model_steps):        \n",
    "    axarr[model_step_ix] = plt.subplot(rows, columns, model_step_ix*columns + 1)\n",
    "    \n",
    "    for group, color, marker, label in zip(real_samples.groupby('Class_1'), colors, markers, class_labels ):\n",
    "        plt.scatter( group[1][[col1]], group[1][[col2]], \n",
    "                         label=label, marker=marker, edgecolors=color, facecolors='none' )\n",
    "    \n",
    "    plt.title('Actual Fraud Data')\n",
    "    plt.ylabel(col2) # Only add y label to left plot\n",
    "    plt.xlabel(col1)\n",
    "    xlims, ylims = axarr[model_step_ix].get_xlim(), axarr[model_step_ix].get_ylim()\n",
    "    \n",
    "    if model_step_ix == 0: \n",
    "        legend = plt.legend()\n",
    "        legend.get_frame().set_facecolor('white')\n",
    "    \n",
    "    for i, model_name in enumerate( model_names[:] ):\n",
    "\n",
    "        [model_name, with_class, generator_model] = models[model_name]\n",
    "\n",
    "        generator_model.load_weights( base_dir + '_generator_model_weights_step_'+str(model_step)+'.h5')\n",
    "\n",
    "        ax = plt.subplot(rows, columns, model_step_ix*columns + 1 + (i+1) )\n",
    "\n",
    "        if with_class:\n",
    "            g_z = generator_model.predict([z, labels])\n",
    "            gen_samples = pd.DataFrame(g_z, columns=data_cols+label_cols)\n",
    "            for group, color, marker, label in zip( gen_samples.groupby('Class_1'), colors, markers, class_labels ):\n",
    "                plt.scatter( group[1][[col1]], group[1][[col2]], \n",
    "                                 label=label, marker=marker, edgecolors=color, facecolors='none' )\n",
    "        else:\n",
    "            g_z = generator_model.predict(z)\n",
    "            gen_samples = pd.DataFrame(g_z, columns=data_cols+['label'])\n",
    "            gen_samples.to_csv('Generated_sample.csv')\n",
    "            plt.scatter( gen_samples[[col1]], gen_samples[[col2]], \n",
    "                             label=class_labels[0], marker=markers[0], edgecolors=colors[0], facecolors='none' )\n",
    "        plt.title(model_name)   \n",
    "        plt.xlabel(data_cols[0])\n",
    "        ax.set_xlim(xlims), ax.set_ylim(ylims)\n",
    "\n",
    "plt.suptitle('Comparison of GAN outputs', size=16, fontweight='bold')\n",
    "plt.tight_layout(rect=[0.075,0,1,0.95])\n",
    "\n",
    "# Adding text labels for traning steps\n",
    "vpositions = np.array([ i._position.bounds[1] for i in axarr ])\n",
    "vpositions += ((vpositions[0] - vpositions[1]) * 0.35 )\n",
    "for model_step_ix, model_step in enumerate( model_steps ):\n",
    "    fig.text( 0.05, vpositions[model_step_ix], 'training\\nstep\\n'+str(model_step), ha='center', va='center', size=12)\n",
    "\n",
    "plt.savefig('Comparison_of_GAN_outputs.png')"
   ],
   "execution_count": 14,
   "outputs": [
    {
     "data": {
      "text/plain": "<Figure size 1008x648 with 6 Axes>",
      "image/png": "[encoded data removed]"
     },
     "metadata": {
      "needs_background": "light"
     },
     "output_type": "display_data"
    }
   ]
  },
  {
   "cell_type": "code",
   "execution_count": 14,
   "outputs": [],
   "source": [],
   "metadata": {
    "collapsed": false,
    "pycharm": {
     "name": "#%%\n"
    }
   }
  }
 ]
}